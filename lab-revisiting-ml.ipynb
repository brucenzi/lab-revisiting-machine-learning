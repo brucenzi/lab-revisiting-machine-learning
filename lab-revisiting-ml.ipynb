{
 "cells": [
  {
   "cell_type": "code",
   "execution_count": 15,
   "id": "baf4889d",
   "metadata": {},
   "outputs": [],
   "source": [
    "import pandas as pd\n",
    "import numpy as np\n",
    "import matplotlib.pyplot as plt\n",
    "import seaborn as sns"
   ]
  },
  {
   "cell_type": "code",
   "execution_count": 16,
   "id": "e642f5bf",
   "metadata": {},
   "outputs": [
    {
     "name": "stderr",
     "output_type": "stream",
     "text": [
      "/var/folders/_w/x8l09n5j7j18x1445tz3c3ww0000gn/T/ipykernel_51335/74220493.py:1: DtypeWarning: Columns (8) have mixed types. Specify dtype option on import or set low_memory=False.\n",
      "  df = pd.read_csv(\"data/learningSet.csv\")\n"
     ]
    },
    {
     "data": {
      "text/html": [
       "<div>\n",
       "<style scoped>\n",
       "    .dataframe tbody tr th:only-of-type {\n",
       "        vertical-align: middle;\n",
       "    }\n",
       "\n",
       "    .dataframe tbody tr th {\n",
       "        vertical-align: top;\n",
       "    }\n",
       "\n",
       "    .dataframe thead th {\n",
       "        text-align: right;\n",
       "    }\n",
       "</style>\n",
       "<table border=\"1\" class=\"dataframe\">\n",
       "  <thead>\n",
       "    <tr style=\"text-align: right;\">\n",
       "      <th></th>\n",
       "      <th>ODATEDW</th>\n",
       "      <th>OSOURCE</th>\n",
       "      <th>TCODE</th>\n",
       "      <th>STATE</th>\n",
       "      <th>ZIP</th>\n",
       "      <th>MAILCODE</th>\n",
       "      <th>PVASTATE</th>\n",
       "      <th>DOB</th>\n",
       "      <th>NOEXCH</th>\n",
       "      <th>RECINHSE</th>\n",
       "      <th>...</th>\n",
       "      <th>TARGET_D</th>\n",
       "      <th>HPHONE_D</th>\n",
       "      <th>RFA_2R</th>\n",
       "      <th>RFA_2F</th>\n",
       "      <th>RFA_2A</th>\n",
       "      <th>MDMAUD_R</th>\n",
       "      <th>MDMAUD_F</th>\n",
       "      <th>MDMAUD_A</th>\n",
       "      <th>CLUSTER2</th>\n",
       "      <th>GEOCODE2</th>\n",
       "    </tr>\n",
       "  </thead>\n",
       "  <tbody>\n",
       "    <tr>\n",
       "      <th>0</th>\n",
       "      <td>8901</td>\n",
       "      <td>GRI</td>\n",
       "      <td>0</td>\n",
       "      <td>IL</td>\n",
       "      <td>61081</td>\n",
       "      <td></td>\n",
       "      <td></td>\n",
       "      <td>3712</td>\n",
       "      <td>0</td>\n",
       "      <td></td>\n",
       "      <td>...</td>\n",
       "      <td>0.0</td>\n",
       "      <td>0</td>\n",
       "      <td>L</td>\n",
       "      <td>4</td>\n",
       "      <td>E</td>\n",
       "      <td>X</td>\n",
       "      <td>X</td>\n",
       "      <td>X</td>\n",
       "      <td>39.0</td>\n",
       "      <td>C</td>\n",
       "    </tr>\n",
       "    <tr>\n",
       "      <th>1</th>\n",
       "      <td>9401</td>\n",
       "      <td>BOA</td>\n",
       "      <td>1</td>\n",
       "      <td>CA</td>\n",
       "      <td>91326</td>\n",
       "      <td></td>\n",
       "      <td></td>\n",
       "      <td>5202</td>\n",
       "      <td>0</td>\n",
       "      <td></td>\n",
       "      <td>...</td>\n",
       "      <td>0.0</td>\n",
       "      <td>0</td>\n",
       "      <td>L</td>\n",
       "      <td>2</td>\n",
       "      <td>G</td>\n",
       "      <td>X</td>\n",
       "      <td>X</td>\n",
       "      <td>X</td>\n",
       "      <td>1.0</td>\n",
       "      <td>A</td>\n",
       "    </tr>\n",
       "    <tr>\n",
       "      <th>2</th>\n",
       "      <td>9001</td>\n",
       "      <td>AMH</td>\n",
       "      <td>1</td>\n",
       "      <td>NC</td>\n",
       "      <td>27017</td>\n",
       "      <td></td>\n",
       "      <td></td>\n",
       "      <td>0</td>\n",
       "      <td>0</td>\n",
       "      <td></td>\n",
       "      <td>...</td>\n",
       "      <td>0.0</td>\n",
       "      <td>1</td>\n",
       "      <td>L</td>\n",
       "      <td>4</td>\n",
       "      <td>E</td>\n",
       "      <td>X</td>\n",
       "      <td>X</td>\n",
       "      <td>X</td>\n",
       "      <td>60.0</td>\n",
       "      <td>C</td>\n",
       "    </tr>\n",
       "    <tr>\n",
       "      <th>3</th>\n",
       "      <td>8701</td>\n",
       "      <td>BRY</td>\n",
       "      <td>0</td>\n",
       "      <td>CA</td>\n",
       "      <td>95953</td>\n",
       "      <td></td>\n",
       "      <td></td>\n",
       "      <td>2801</td>\n",
       "      <td>0</td>\n",
       "      <td></td>\n",
       "      <td>...</td>\n",
       "      <td>0.0</td>\n",
       "      <td>1</td>\n",
       "      <td>L</td>\n",
       "      <td>4</td>\n",
       "      <td>E</td>\n",
       "      <td>X</td>\n",
       "      <td>X</td>\n",
       "      <td>X</td>\n",
       "      <td>41.0</td>\n",
       "      <td>C</td>\n",
       "    </tr>\n",
       "    <tr>\n",
       "      <th>4</th>\n",
       "      <td>8601</td>\n",
       "      <td></td>\n",
       "      <td>0</td>\n",
       "      <td>FL</td>\n",
       "      <td>33176</td>\n",
       "      <td></td>\n",
       "      <td></td>\n",
       "      <td>2001</td>\n",
       "      <td>0</td>\n",
       "      <td>X</td>\n",
       "      <td>...</td>\n",
       "      <td>0.0</td>\n",
       "      <td>1</td>\n",
       "      <td>L</td>\n",
       "      <td>2</td>\n",
       "      <td>F</td>\n",
       "      <td>X</td>\n",
       "      <td>X</td>\n",
       "      <td>X</td>\n",
       "      <td>26.0</td>\n",
       "      <td>A</td>\n",
       "    </tr>\n",
       "    <tr>\n",
       "      <th>...</th>\n",
       "      <td>...</td>\n",
       "      <td>...</td>\n",
       "      <td>...</td>\n",
       "      <td>...</td>\n",
       "      <td>...</td>\n",
       "      <td>...</td>\n",
       "      <td>...</td>\n",
       "      <td>...</td>\n",
       "      <td>...</td>\n",
       "      <td>...</td>\n",
       "      <td>...</td>\n",
       "      <td>...</td>\n",
       "      <td>...</td>\n",
       "      <td>...</td>\n",
       "      <td>...</td>\n",
       "      <td>...</td>\n",
       "      <td>...</td>\n",
       "      <td>...</td>\n",
       "      <td>...</td>\n",
       "      <td>...</td>\n",
       "      <td>...</td>\n",
       "    </tr>\n",
       "    <tr>\n",
       "      <th>95407</th>\n",
       "      <td>9601</td>\n",
       "      <td>ASE</td>\n",
       "      <td>1</td>\n",
       "      <td>AK</td>\n",
       "      <td>99504</td>\n",
       "      <td></td>\n",
       "      <td></td>\n",
       "      <td>0</td>\n",
       "      <td>0</td>\n",
       "      <td></td>\n",
       "      <td>...</td>\n",
       "      <td>0.0</td>\n",
       "      <td>0</td>\n",
       "      <td>L</td>\n",
       "      <td>1</td>\n",
       "      <td>G</td>\n",
       "      <td>X</td>\n",
       "      <td>X</td>\n",
       "      <td>X</td>\n",
       "      <td>12.0</td>\n",
       "      <td>C</td>\n",
       "    </tr>\n",
       "    <tr>\n",
       "      <th>95408</th>\n",
       "      <td>9601</td>\n",
       "      <td>DCD</td>\n",
       "      <td>1</td>\n",
       "      <td>TX</td>\n",
       "      <td>77379</td>\n",
       "      <td></td>\n",
       "      <td></td>\n",
       "      <td>5001</td>\n",
       "      <td>0</td>\n",
       "      <td></td>\n",
       "      <td>...</td>\n",
       "      <td>0.0</td>\n",
       "      <td>1</td>\n",
       "      <td>L</td>\n",
       "      <td>1</td>\n",
       "      <td>F</td>\n",
       "      <td>X</td>\n",
       "      <td>X</td>\n",
       "      <td>X</td>\n",
       "      <td>2.0</td>\n",
       "      <td>A</td>\n",
       "    </tr>\n",
       "    <tr>\n",
       "      <th>95409</th>\n",
       "      <td>9501</td>\n",
       "      <td>MBC</td>\n",
       "      <td>1</td>\n",
       "      <td>MI</td>\n",
       "      <td>48910</td>\n",
       "      <td></td>\n",
       "      <td></td>\n",
       "      <td>3801</td>\n",
       "      <td>0</td>\n",
       "      <td></td>\n",
       "      <td>...</td>\n",
       "      <td>0.0</td>\n",
       "      <td>1</td>\n",
       "      <td>L</td>\n",
       "      <td>3</td>\n",
       "      <td>E</td>\n",
       "      <td>X</td>\n",
       "      <td>X</td>\n",
       "      <td>X</td>\n",
       "      <td>34.0</td>\n",
       "      <td>B</td>\n",
       "    </tr>\n",
       "    <tr>\n",
       "      <th>95410</th>\n",
       "      <td>8601</td>\n",
       "      <td>PRV</td>\n",
       "      <td>0</td>\n",
       "      <td>CA</td>\n",
       "      <td>91320</td>\n",
       "      <td></td>\n",
       "      <td></td>\n",
       "      <td>4005</td>\n",
       "      <td>0</td>\n",
       "      <td>X</td>\n",
       "      <td>...</td>\n",
       "      <td>18.0</td>\n",
       "      <td>1</td>\n",
       "      <td>L</td>\n",
       "      <td>4</td>\n",
       "      <td>F</td>\n",
       "      <td>X</td>\n",
       "      <td>X</td>\n",
       "      <td>X</td>\n",
       "      <td>11.0</td>\n",
       "      <td>A</td>\n",
       "    </tr>\n",
       "    <tr>\n",
       "      <th>95411</th>\n",
       "      <td>8801</td>\n",
       "      <td>MCC</td>\n",
       "      <td>2</td>\n",
       "      <td>NC</td>\n",
       "      <td>28409</td>\n",
       "      <td></td>\n",
       "      <td></td>\n",
       "      <td>1801</td>\n",
       "      <td>0</td>\n",
       "      <td>X</td>\n",
       "      <td>...</td>\n",
       "      <td>0.0</td>\n",
       "      <td>1</td>\n",
       "      <td>L</td>\n",
       "      <td>1</td>\n",
       "      <td>G</td>\n",
       "      <td>C</td>\n",
       "      <td>1</td>\n",
       "      <td>C</td>\n",
       "      <td>12.0</td>\n",
       "      <td>C</td>\n",
       "    </tr>\n",
       "  </tbody>\n",
       "</table>\n",
       "<p>95412 rows × 481 columns</p>\n",
       "</div>"
      ],
      "text/plain": [
       "       ODATEDW OSOURCE  TCODE STATE    ZIP MAILCODE PVASTATE   DOB NOEXCH  \\\n",
       "0         8901     GRI      0    IL  61081                    3712      0   \n",
       "1         9401     BOA      1    CA  91326                    5202      0   \n",
       "2         9001     AMH      1    NC  27017                       0      0   \n",
       "3         8701     BRY      0    CA  95953                    2801      0   \n",
       "4         8601              0    FL  33176                    2001      0   \n",
       "...        ...     ...    ...   ...    ...      ...      ...   ...    ...   \n",
       "95407     9601     ASE      1    AK  99504                       0      0   \n",
       "95408     9601     DCD      1    TX  77379                    5001      0   \n",
       "95409     9501     MBC      1    MI  48910                    3801      0   \n",
       "95410     8601     PRV      0    CA  91320                    4005      0   \n",
       "95411     8801     MCC      2    NC  28409                    1801      0   \n",
       "\n",
       "      RECINHSE  ... TARGET_D HPHONE_D RFA_2R RFA_2F RFA_2A MDMAUD_R  MDMAUD_F  \\\n",
       "0               ...      0.0        0      L      4      E        X         X   \n",
       "1               ...      0.0        0      L      2      G        X         X   \n",
       "2               ...      0.0        1      L      4      E        X         X   \n",
       "3               ...      0.0        1      L      4      E        X         X   \n",
       "4            X  ...      0.0        1      L      2      F        X         X   \n",
       "...        ...  ...      ...      ...    ...    ...    ...      ...       ...   \n",
       "95407           ...      0.0        0      L      1      G        X         X   \n",
       "95408           ...      0.0        1      L      1      F        X         X   \n",
       "95409           ...      0.0        1      L      3      E        X         X   \n",
       "95410        X  ...     18.0        1      L      4      F        X         X   \n",
       "95411        X  ...      0.0        1      L      1      G        C         1   \n",
       "\n",
       "      MDMAUD_A CLUSTER2 GEOCODE2  \n",
       "0            X     39.0        C  \n",
       "1            X      1.0        A  \n",
       "2            X     60.0        C  \n",
       "3            X     41.0        C  \n",
       "4            X     26.0        A  \n",
       "...        ...      ...      ...  \n",
       "95407        X     12.0        C  \n",
       "95408        X      2.0        A  \n",
       "95409        X     34.0        B  \n",
       "95410        X     11.0        A  \n",
       "95411        C     12.0        C  \n",
       "\n",
       "[95412 rows x 481 columns]"
      ]
     },
     "execution_count": 16,
     "metadata": {},
     "output_type": "execute_result"
    }
   ],
   "source": [
    "df = pd.read_csv(\"data/learningSet.csv\")\n",
    "df"
   ]
  },
  {
   "cell_type": "markdown",
   "id": "efc03fa3",
   "metadata": {},
   "source": [
    "### 1. Check for null values in all the columns"
   ]
  },
  {
   "cell_type": "code",
   "execution_count": 17,
   "id": "20bdb833",
   "metadata": {},
   "outputs": [
    {
     "data": {
      "text/plain": [
       "ODATEDW       0\n",
       "OSOURCE       0\n",
       "TCODE         0\n",
       "STATE         0\n",
       "ZIP           0\n",
       "           ... \n",
       "MDMAUD_R      0\n",
       "MDMAUD_F      0\n",
       "MDMAUD_A      0\n",
       "CLUSTER2    132\n",
       "GEOCODE2    132\n",
       "Length: 481, dtype: int64"
      ]
     },
     "execution_count": 17,
     "metadata": {},
     "output_type": "execute_result"
    }
   ],
   "source": [
    "df.isna().sum()"
   ]
  },
  {
   "cell_type": "markdown",
   "id": "05818810",
   "metadata": {},
   "source": [
    "### 2. Exclude the following variables by looking at the definitions. Create a new empty list called drop_list. We will append this list and then drop all the columns in this list later:"
   ]
  },
  {
   "cell_type": "code",
   "execution_count": 18,
   "id": "0800b015",
   "metadata": {},
   "outputs": [],
   "source": [
    "# OSOURCE - symbol definitions not provided, too many categories\n",
    "# ZIP CODE - we are including state already"
   ]
  },
  {
   "cell_type": "code",
   "execution_count": 19,
   "id": "2f010d3f",
   "metadata": {},
   "outputs": [],
   "source": [
    "df = df.drop(['OSOURCE', 'ZIP'], axis = 1)"
   ]
  },
  {
   "cell_type": "code",
   "execution_count": 20,
   "id": "43ac6271",
   "metadata": {},
   "outputs": [
    {
     "data": {
      "text/plain": [
       "(95412, 479)"
      ]
     },
     "execution_count": 20,
     "metadata": {},
     "output_type": "execute_result"
    }
   ],
   "source": [
    "df.shape"
   ]
  },
  {
   "cell_type": "code",
   "execution_count": 21,
   "id": "22b8d7d9",
   "metadata": {},
   "outputs": [],
   "source": [
    "drop_list = [] "
   ]
  },
  {
   "cell_type": "markdown",
   "id": "553e92f3",
   "metadata": {},
   "source": [
    "### 3. Identify columns that over 85% missing values"
   ]
  },
  {
   "cell_type": "code",
   "execution_count": 79,
   "id": "1073067d",
   "metadata": {},
   "outputs": [
    {
     "name": "stdout",
     "output_type": "stream",
     "text": [
      "NUMCHLD\n",
      "RDATE_3\n",
      "RDATE_4\n",
      "RDATE_5\n",
      "RDATE_6\n",
      "RDATE_7\n",
      "RDATE_10\n",
      "RDATE_13\n",
      "RDATE_15\n",
      "RDATE_17\n",
      "RDATE_20\n",
      "RDATE_21\n",
      "RDATE_23\n",
      "RAMNT_3\n",
      "RAMNT_4\n",
      "RAMNT_5\n",
      "RAMNT_6\n",
      "RAMNT_7\n",
      "RAMNT_10\n",
      "RAMNT_13\n",
      "RAMNT_15\n",
      "RAMNT_17\n",
      "RAMNT_20\n",
      "RAMNT_21\n",
      "RAMNT_23\n"
     ]
    }
   ],
   "source": [
    "for col in df.columns:\n",
    "    if df[col].isna().sum() / len(df) > 0.85:\n",
    "        print(col)"
   ]
  },
  {
   "cell_type": "code",
   "execution_count": 81,
   "id": "e4ed7431",
   "metadata": {},
   "outputs": [
    {
     "data": {
      "text/plain": [
       "0.8701840439357733"
      ]
     },
     "execution_count": 81,
     "metadata": {},
     "output_type": "execute_result"
    }
   ],
   "source": [
    "df['NUMCHLD'].isna().sum() / len(df)"
   ]
  },
  {
   "cell_type": "code",
   "execution_count": 82,
   "id": "0c140e21",
   "metadata": {},
   "outputs": [
    {
     "data": {
      "text/plain": [
       "0.997463631409047"
      ]
     },
     "execution_count": 82,
     "metadata": {},
     "output_type": "execute_result"
    }
   ],
   "source": [
    "df['RDATE_3'].isna().sum() / len(df)"
   ]
  },
  {
   "cell_type": "markdown",
   "id": "54962190",
   "metadata": {},
   "source": [
    "### 4. Remove those columns from the dataframe"
   ]
  },
  {
   "cell_type": "code",
   "execution_count": 87,
   "id": "1b7d17dd",
   "metadata": {},
   "outputs": [],
   "source": [
    "for col in df.columns:\n",
    "    if df[col].isna().sum() / len(df) > 0.85:\n",
    "        df = df.drop((col), axis = 1)"
   ]
  },
  {
   "cell_type": "code",
   "execution_count": 88,
   "id": "f9a47025",
   "metadata": {},
   "outputs": [
    {
     "data": {
      "text/plain": [
       "(95412, 454)"
      ]
     },
     "execution_count": 88,
     "metadata": {},
     "output_type": "execute_result"
    }
   ],
   "source": [
    "df.shape"
   ]
  },
  {
   "cell_type": "markdown",
   "id": "fd221c29",
   "metadata": {},
   "source": [
    "### 5. Reduce the number of categories in the column GENDER. The column should only have either \"M\" for males, \"F\" for females, and \"other\" for all the rest"
   ]
  },
  {
   "cell_type": "code",
   "execution_count": 90,
   "id": "cdfff763",
   "metadata": {},
   "outputs": [
    {
     "data": {
      "text/plain": [
       "F    51277\n",
       "M    39094\n",
       "      2957\n",
       "U     1715\n",
       "J      365\n",
       "C        2\n",
       "A        2\n",
       "Name: GENDER, dtype: int64"
      ]
     },
     "execution_count": 90,
     "metadata": {},
     "output_type": "execute_result"
    }
   ],
   "source": [
    "df.GENDER.value_counts()"
   ]
  },
  {
   "cell_type": "code",
   "execution_count": 97,
   "id": "84332854",
   "metadata": {},
   "outputs": [],
   "source": [
    "df['GENDER'] = df.GENDER.replace([' ','U', 'J', 'C', 'A'],['other', 'other', 'other', 'other', 'other'])"
   ]
  },
  {
   "cell_type": "code",
   "execution_count": 98,
   "id": "a7499f1a",
   "metadata": {},
   "outputs": [
    {
     "data": {
      "text/plain": [
       "F        51277\n",
       "M        39094\n",
       "other     5041\n",
       "Name: GENDER, dtype: int64"
      ]
     },
     "execution_count": 98,
     "metadata": {},
     "output_type": "execute_result"
    }
   ],
   "source": [
    "df.GENDER.value_counts()"
   ]
  }
 ],
 "metadata": {
  "kernelspec": {
   "display_name": "Python 3 (ipykernel)",
   "language": "python",
   "name": "python3"
  },
  "language_info": {
   "codemirror_mode": {
    "name": "ipython",
    "version": 3
   },
   "file_extension": ".py",
   "mimetype": "text/x-python",
   "name": "python",
   "nbconvert_exporter": "python",
   "pygments_lexer": "ipython3",
   "version": "3.9.12"
  }
 },
 "nbformat": 4,
 "nbformat_minor": 5
}
